{
 "cells": [
  {
   "cell_type": "code",
   "execution_count": 1,
   "id": "75ddf938",
   "metadata": {},
   "outputs": [],
   "source": [
    "#import packages\n",
    "import numpy as np\n",
    "import matplotlib.pyplot as plt\n",
    "import pandas as pd\n",
    "from sklearn.preprocessing import LabelEncoder\n",
    "from sklearn.tree import DecisionTreeClassifier\n"
   ]
  },
  {
   "cell_type": "code",
   "execution_count": 2,
   "id": "2e7b456d",
   "metadata": {},
   "outputs": [],
   "source": [
    "dataset=pd.read_csv('DT.csv')"
   ]
  },
  {
   "cell_type": "code",
   "execution_count": 26,
   "id": "8417eb7f",
   "metadata": {},
   "outputs": [],
   "source": [
    "dataset.head()"
   ]
  },
  {
   "cell_type": "code",
   "execution_count": 5,
   "id": "4c36b503",
   "metadata": {},
   "outputs": [],
   "source": [
    "#Spliting the dataset in independent and dependent variables\n",
    "X=dataset.iloc[:,:-1]\n",
    "y=dataset.iloc[:,5]\n"
   ]
  },
  {
   "cell_type": "code",
   "execution_count": 7,
   "id": "8cef45e2",
   "metadata": {},
   "outputs": [],
   "source": [
    "#Perform Label encoding\n",
    "from sklearn.preprocessing import LabelEncoder\n",
    "labelencoder_X = LabelEncoder()\n",
    "\n",
    "X = X.apply(LabelEncoder().fit_transform)\n",
    "print (X)"
   ]
  },
  {
   "cell_type": "code",
   "execution_count": 28,
   "id": "6742a643",
   "metadata": {},
   "outputs": [],
   "source": [
    "#from sklearn subpackage import Decision Tree model\n",
    "from sklearn.tree import DecisionTreeClassifier\n",
    "regressor=DecisionTreeClassifier()\n",
    "regressor.fit(X.iloc[:,1:5],y)"
   ]
  },
  {
   "cell_type": "code",
   "execution_count": 27,
   "id": "242d2689",
   "metadata": {},
   "outputs": [],
   "source": [
    "#Predict value for the given expression\n",
    "X_in=np.array([0,1,0,1])\n",
    "\n",
    "y_pred=regressor.predict([X_in])\n",
    "print (\"Prediction:\", y_pred)"
   ]
  },
  {
   "cell_type": "code",
   "execution_count": 20,
   "id": "c36de6f3",
   "metadata": {},
   "outputs": [],
   "source": [
    "from six import StringIO\n",
    "from IPython.display import Image  \n",
    "from sklearn.tree import export_graphviz\n",
    "import pydotplus\n",
    "# Create DOT data\n",
    "dot_data = StringIO()\n",
    "\n",
    "export_graphviz(regressor, out_file=dot_data, filled=True, rounded=True, special_characters=True)\n",
    "\n"
   ]
  },
  {
   "cell_type": "code",
   "execution_count": 22,
   "id": "5809a296",
   "metadata": {},
   "outputs": [],
   "source": [
    "# Draw graph\n",
    "graph = pydotplus.graph_from_dot_data(dot_data.getvalue()) \n",
    "graph.write_png('Decision_Tree.png')"
   ]
  },
  {
   "cell_type": "code",
   "execution_count": 25,
   "id": "1461490e",
   "metadata": {},
   "outputs": [],
   "source": [
    "#Show Graph\n",
    "Image(graph.create_png())"
   ]
  },
  {
   "cell_type": "code",
   "execution_count": null,
   "id": "810a2bdf",
   "metadata": {},
   "outputs": [],
   "source": []
  }
 ],
 "metadata": {
  "kernelspec": {
   "display_name": "Python 3",
   "language": "python",
   "name": "python3"
  },
  "language_info": {
   "codemirror_mode": {
    "name": "ipython",
    "version": 3
   },
   "file_extension": ".py",
   "mimetype": "text/x-python",
   "name": "python",
   "nbconvert_exporter": "python",
   "pygments_lexer": "ipython3",
   "version": "3.8.8"
  }
 },
 "nbformat": 4,
 "nbformat_minor": 5
}
