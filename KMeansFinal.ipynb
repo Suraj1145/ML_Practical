{
 "cells": [
  {
   "cell_type": "code",
   "execution_count": 2,
   "id": "0deed127",
   "metadata": {},
   "outputs": [],
   "source": [
    "import numpy as np\n",
    "import matplotlib.pyplot as plt\n",
    "import pandas as pd\n"
   ]
  },
  {
   "cell_type": "code",
   "execution_count": 9,
   "id": "f9d29afc",
   "metadata": {},
   "outputs": [],
   "source": [
    "df=pd.DataFrame({'x':[0.1,0.15,0.08,0.16,0.2,0.25,0.24,0.3],\n",
    "                'y':[0.6,0.71,0.9,0.85,0.3,0.5,0.1,0.2]})\n"
   ]
  },
  {
   "cell_type": "code",
   "execution_count": 11,
   "id": "26ea051c",
   "metadata": {},
   "outputs": [],
   "source": [
    "f1=df['x']\n",
    "f2=df['y']"
   ]
  },
  {
   "cell_type": "code",
   "execution_count": 55,
   "id": "695701cd",
   "metadata": {},
   "outputs": [],
   "source": [
    "plt.scatter(df['x'],df['y'])"
   ]
  },
  {
   "cell_type": "code",
   "execution_count": 57,
   "id": "95315d1d",
   "metadata": {},
   "outputs": [],
   "source": [
    "C_x=np.array([0.1,0.3])\n",
    "C_y=np.array([0.6,0.2])\n",
    "centroids=C_x,C_y\n",
    "centroids\n"
   ]
  },
  {
   "cell_type": "code",
   "execution_count": 56,
   "id": "1353066b",
   "metadata": {},
   "outputs": [],
   "source": [
    "from sklearn.cluster import KMeans\n",
    "model=KMeans(n_clusters=2,random_state=0)\n",
    "model.fit(df)\n",
    "labels=model.labels_\n",
    "print(labels)"
   ]
  },
  {
   "cell_type": "code",
   "execution_count": 58,
   "id": "051fad1b",
   "metadata": {},
   "outputs": [],
   "source": [
    "# Answering the questions:\n",
    "\n",
    "# 1] Which cluster does P6 belong to?\n",
    "print('P6 Belongs to cluster',model.labels_[6])"
   ]
  },
  {
   "cell_type": "code",
   "execution_count": 59,
   "id": "6010e4c1",
   "metadata": {},
   "outputs": [],
   "source": [
    "# 2] What is the population of cluster around centroid 2?\n",
    "print('No of population of cluster around centroid 2:',np.count_nonzero(model.labels_==1))"
   ]
  },
  {
   "cell_type": "code",
   "execution_count": 60,
   "id": "9a9edc4b",
   "metadata": {},
   "outputs": [],
   "source": [
    "# 3] What is the updated value of new centroid?\n",
    "print('New Centroids :\\n',model.cluster_centers_)"
   ]
  },
  {
   "cell_type": "code",
   "execution_count": 61,
   "id": "7a0509dc",
   "metadata": {},
   "outputs": [],
   "source": [
    "km = KMeans(n_clusters=2)\n",
    "km"
   ]
  },
  {
   "cell_type": "code",
   "execution_count": 62,
   "id": "2816fd65",
   "metadata": {},
   "outputs": [],
   "source": [
    "y_predict=km.fit_predict(df[['x','y']])\n",
    "y_predict"
   ]
  },
  {
   "cell_type": "code",
   "execution_count": 63,
   "id": "629987d7",
   "metadata": {},
   "outputs": [],
   "source": [
    "df['cluster']=y_predict\n",
    "df"
   ]
  },
  {
   "cell_type": "code",
   "execution_count": 66,
   "id": "6356ee0d",
   "metadata": {},
   "outputs": [],
   "source": [
    "df1=df[df.cluster==0]\n",
    "df2=df[df.cluster==1]\n",
    "plt.scatter(df1['x'],df1['y'],color ='green')\n",
    "plt.scatter(df2['x'],df2['y'],color ='red')\n",
    "\n",
    "plt.scatter(km.cluster_centers_[:,0],km.cluster_centers_[:,1],color = 'yellow',marker = '*')\n",
    "\n",
    "plt.xlabel('x')\n",
    "plt.ylabel('y')\n",
    "plt.legend()\n",
    "plt.title('K-Means Clustering')\n",
    "plt.show()"
   ]
  },
  {
   "cell_type": "code",
   "execution_count": null,
   "id": "0f20b137",
   "metadata": {},
   "outputs": [],
   "source": []
  },
  {
   "cell_type": "code",
   "execution_count": null,
   "id": "7bec346e",
   "metadata": {},
   "outputs": [],
   "source": []
  }
 ],
 "metadata": {
  "kernelspec": {
   "display_name": "Python 3",
   "language": "python",
   "name": "python3"
  },
  "language_info": {
   "codemirror_mode": {
    "name": "ipython",
    "version": 3
   },
   "file_extension": ".py",
   "mimetype": "text/x-python",
   "name": "python",
   "nbconvert_exporter": "python",
   "pygments_lexer": "ipython3",
   "version": "3.8.8"
  }
 },
 "nbformat": 4,
 "nbformat_minor": 5
}
