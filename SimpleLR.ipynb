{
 "cells": [
  {
   "cell_type": "code",
   "execution_count": 19,
   "id": "60bae391",
   "metadata": {},
   "outputs": [],
   "source": [
    "import numpy as np\n",
    "import pandas as pd\n",
    "import matplotlib.pyplot as plt"
   ]
  },
  {
   "cell_type": "code",
   "execution_count": 20,
   "id": "912f0416",
   "metadata": {},
   "outputs": [],
   "source": [
    "df=pd.read_csv('SLR DS.csv')"
   ]
  },
  {
   "cell_type": "code",
   "execution_count": 1,
   "id": "49e3c174",
   "metadata": {},
   "outputs": [],
   "source": [
    "df.head()"
   ]
  },
  {
   "cell_type": "code",
   "execution_count": 2,
   "id": "f2dba359",
   "metadata": {
    "scrolled": false
   },
   "outputs": [],
   "source": [
    "plt.scatter(df['height'],df['weight'])\n",
    "plt.xlabel('height(in cms)')\n",
    "plt.ylabel('weight(in kgs)')"
   ]
  },
  {
   "cell_type": "code",
   "execution_count": 23,
   "id": "dc1485f2",
   "metadata": {},
   "outputs": [],
   "source": [
    "x=df.iloc[:,:-1] #independent Var\n",
    "y=df.iloc[:,-1]  #dependent var\n"
   ]
  },
  {
   "cell_type": "code",
   "execution_count": 3,
   "id": "75945a67",
   "metadata": {},
   "outputs": [],
   "source": [
    "print(x)"
   ]
  },
  {
   "cell_type": "code",
   "execution_count": 4,
   "id": "77431035",
   "metadata": {},
   "outputs": [],
   "source": [
    "y"
   ]
  },
  {
   "cell_type": "code",
   "execution_count": 26,
   "id": "b9db9a4a",
   "metadata": {},
   "outputs": [
    {
     "data": {
      "text/plain": [
       "LinearRegression()"
      ]
     },
     "execution_count": 26,
     "metadata": {},
     "output_type": "execute_result"
    }
   ],
   "source": [
    "#from sklearn subpackage import linear regression model\n",
    "from sklearn.linear_model import LinearRegression\n",
    "lr=LinearRegression()\n",
    "lr.fit(x,y)"
   ]
  },
  {
   "cell_type": "code",
   "execution_count": 8,
   "id": "8901bf42",
   "metadata": {},
   "outputs": [],
   "source": [
    "#To get the slop\n",
    "lr.coef_\n",
    "#To get the y intercept\n",
    "lr.intercept_\n",
    "#To print the equation of line\n",
    "print(\"y= \"+ str(lr.coef_) + \"X + \" + str(lr.intercept_))"
   ]
  },
  {
   "cell_type": "code",
   "execution_count": 9,
   "id": "85148187",
   "metadata": {},
   "outputs": [],
   "source": [
    "#To get the slop\n",
    "print(\"Accuracy:\",lr.score(x,y)*100)"
   ]
  },
  {
   "cell_type": "code",
   "execution_count": 11,
   "id": "510a77aa",
   "metadata": {
    "scrolled": true
   },
   "outputs": [],
   "source": [
    "#To plot graph\n",
    "plt.plot(x,y,'o')\n",
    "plt.plot(x,lr.predict(x));\n",
    "plt.show()"
   ]
  },
  {
   "cell_type": "code",
   "execution_count": 13,
   "id": "b1739431",
   "metadata": {},
   "outputs": [],
   "source": [
    "# To Predict Weight\n",
    "predict_x=int(input('Enter Height:'))\n",
    "predict_y=(0.67461045*predict_x)-38.45508707607698\n",
    "plt.scatter(x,y)\n",
    "plt.scatter(predict_x,predict_y) \n",
    "plt.xlabel('Enter Height:(Predicted_x)') \n",
    "plt.ylabel('Enter Weight:(Predicted_y)') \n",
    "#plotting the Predicted regression line\n",
    "plt.plot(x,lr.predict(x),color='green');"
   ]
  },
  {
   "cell_type": "code",
   "execution_count": 12,
   "id": "c08834e9",
   "metadata": {},
   "outputs": [],
   "source": [
    "lr.predict([[180]])"
   ]
  },
  {
   "cell_type": "code",
   "execution_count": null,
   "id": "6165a9ae",
   "metadata": {},
   "outputs": [],
   "source": []
  },
  {
   "cell_type": "code",
   "execution_count": null,
   "id": "edcd78c2",
   "metadata": {},
   "outputs": [],
   "source": []
  }
 ],
 "metadata": {
  "kernelspec": {
   "display_name": "Python 3",
   "language": "python",
   "name": "python3"
  },
  "language_info": {
   "codemirror_mode": {
    "name": "ipython",
    "version": 3
   },
   "file_extension": ".py",
   "mimetype": "text/x-python",
   "name": "python",
   "nbconvert_exporter": "python",
   "pygments_lexer": "ipython3",
   "version": "3.8.8"
  }
 },
 "nbformat": 4,
 "nbformat_minor": 5
}
